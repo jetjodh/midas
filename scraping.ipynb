{
 "cells": [
  {
   "cell_type": "code",
   "execution_count": 1,
   "metadata": {},
   "outputs": [],
   "source": [
    "import praw\n",
    "import pandas as pd"
   ]
  },
  {
   "cell_type": "code",
   "execution_count": 2,
   "metadata": {},
   "outputs": [],
   "source": [
    "reddit = praw.Reddit(client_id='80VRpM_i5PAB0w', client_secret='JrwCgUR0D0wVGgpdHH4imteSnI4', user_agent='scraper')"
   ]
  },
  {
   "cell_type": "code",
   "execution_count": 3,
   "metadata": {},
   "outputs": [
    {
     "data": {
      "text/plain": [
       "989"
      ]
     },
     "execution_count": 3,
     "metadata": {},
     "output_type": "execute_result"
    }
   ],
   "source": [
    "posts = []\n",
    "subreddit = reddit.subreddit('india')\n",
    "\n",
    "for post in subreddit.top(limit=10000):\n",
    "    post.comment_sort = 'top'\n",
    "    post.comments.replace_more(limit=0)\n",
    "    comments=[]\n",
    "    for comment in post.comments:\n",
    "        comments.append(comment.body)\n",
    "    comments = comments[:3]\n",
    "    posts.append([post.title, post.score, post.id, post.subreddit, post.url, post.num_comments, post.selftext, post.link_flair_text, post.stickied, post.upvote_ratio, comments, post.distinguished, post.edited, post.over_18, post.locked, post.is_original_content, post.is_self])\n",
    "posts = pd.DataFrame(posts,columns=['title', 'score', 'id', 'subreddit', 'url', 'num_comments', 'body', 'link_flair_text','stickied', 'upvote_ratio', 'comments', 'distinguished','edited','over_18','locked','is_original_content','is_self'])\n",
    "posts.to_csv('reddit.csv',index = False)\n",
    "len(posts.id)"
   ]
  },
  {
   "cell_type": "code",
   "execution_count": 17,
   "metadata": {},
   "outputs": [
    {
     "data": {
      "text/plain": [
       "998"
      ]
     },
     "execution_count": 17,
     "metadata": {},
     "output_type": "execute_result"
    }
   ],
   "source": [
    "len(posts.id)"
   ]
  },
  {
   "cell_type": "code",
   "execution_count": 4,
   "metadata": {},
   "outputs": [
    {
     "data": {
      "text/plain": [
       "867"
      ]
     },
     "execution_count": 4,
     "metadata": {},
     "output_type": "execute_result"
    }
   ],
   "source": [
    "posts = []\n",
    "subreddit = reddit.subreddit('india')\n",
    "\n",
    "for post in subreddit.new(limit=10000):\n",
    "    post.comment_sort = 'top'\n",
    "    post.comments.replace_more(limit=0)\n",
    "    comments=[]\n",
    "    for comment in post.comments:\n",
    "        comments.append(comment.body)\n",
    "    comments = comments[:3]\n",
    "    posts.append([post.title, post.score, post.id, post.subreddit, post.url, post.num_comments, post.selftext, post.link_flair_text, post.stickied, post.upvote_ratio, comments, post.distinguished, post.edited, post.over_18, post.locked, post.is_original_content, post.is_self])\n",
    "posts = pd.DataFrame(posts,columns=['title', 'score', 'id', 'subreddit', 'url', 'num_comments', 'body', 'link_flair_text','stickied', 'upvote_ratio', 'comments', 'distinguished','edited','over_18','locked','is_original_content','is_self'])\n",
    "posts.to_csv('new.csv',index = False)\n",
    "len(posts.id)"
   ]
  },
  {
   "cell_type": "code",
   "execution_count": 5,
   "metadata": {},
   "outputs": [
    {
     "data": {
      "text/plain": [
       "998"
      ]
     },
     "execution_count": 5,
     "metadata": {},
     "output_type": "execute_result"
    }
   ],
   "source": [
    "posts = []\n",
    "subreddit = reddit.subreddit('india')\n",
    "\n",
    "for post in subreddit.controversial(limit=10000):\n",
    "    post.comment_sort = 'top'\n",
    "    post.comments.replace_more(limit=0)\n",
    "    comments=[]\n",
    "    for comment in post.comments:\n",
    "        comments.append(comment.body)\n",
    "    comments = comments[:3]\n",
    "    posts.append([post.title, post.score, post.id, post.subreddit, post.url, post.num_comments, post.selftext, post.link_flair_text, post.stickied, post.upvote_ratio, comments, post.distinguished, post.edited, post.over_18, post.locked, post.is_original_content, post.is_self])\n",
    "posts = pd.DataFrame(posts,columns=['title', 'score', 'id', 'subreddit', 'url', 'num_comments', 'body', 'link_flair_text','stickied', 'upvote_ratio', 'comments', 'distinguished','edited','over_18','locked','is_original_content','is_self'])\n",
    "posts.to_csv('controversial.csv',index = False)\n",
    "len(posts.id)"
   ]
  },
  {
   "cell_type": "code",
   "execution_count": 6,
   "metadata": {},
   "outputs": [
    {
     "data": {
      "text/plain": [
       "663"
      ]
     },
     "execution_count": 6,
     "metadata": {},
     "output_type": "execute_result"
    }
   ],
   "source": [
    "posts = []\n",
    "subreddit = reddit.subreddit('india')\n",
    "\n",
    "for post in subreddit.hot(limit=10000):\n",
    "    post.comment_sort = 'top'\n",
    "    post.comments.replace_more(limit=0)\n",
    "    comments=[]\n",
    "    for comment in post.comments:\n",
    "        comments.append(comment.body)\n",
    "    comments = comments[:3]\n",
    "    posts.append([post.title, post.score, post.id, post.subreddit, post.url, post.num_comments, post.selftext, post.link_flair_text, post.stickied, post.upvote_ratio, comments, post.distinguished, post.edited, post.over_18, post.locked, post.is_original_content, post.is_self])\n",
    "posts = pd.DataFrame(posts,columns=['title', 'score', 'id', 'subreddit', 'url', 'num_comments', 'body', 'link_flair_text','stickied', 'upvote_ratio', 'comments', 'distinguished','edited','over_18','locked','is_original_content','is_self'])\n",
    "posts.to_csv('hot.csv',index = False)\n",
    "len(posts.id)"
   ]
  },
  {
   "cell_type": "code",
   "execution_count": 7,
   "metadata": {},
   "outputs": [
    {
     "data": {
      "text/plain": [
       "25"
      ]
     },
     "execution_count": 7,
     "metadata": {},
     "output_type": "execute_result"
    }
   ],
   "source": [
    "posts = []\n",
    "subreddit = reddit.subreddit('india')\n",
    "\n",
    "for post in subreddit.rising(limit=10000):\n",
    "    post.comment_sort = 'top'\n",
    "    post.comments.replace_more(limit=0)\n",
    "    comments=[]\n",
    "    for comment in post.comments:\n",
    "        comments.append(comment.body)\n",
    "    comments = comments[:3]\n",
    "    posts.append([post.title, post.score, post.id, post.subreddit, post.url, post.num_comments, post.selftext, post.link_flair_text, post.stickied, post.upvote_ratio, comments, post.distinguished, post.edited, post.over_18, post.locked, post.is_original_content, post.is_self])\n",
    "posts = pd.DataFrame(posts,columns=['title', 'score', 'id', 'subreddit', 'url', 'num_comments', 'body', 'link_flair_text','stickied', 'upvote_ratio', 'comments', 'distinguished','edited','over_18','locked','is_original_content','is_self'])\n",
    "posts.to_csv('rising.csv',index = False)\n",
    "len(posts.id)"
   ]
  },
  {
   "cell_type": "code",
   "execution_count": 7,
   "metadata": {},
   "outputs": [
    {
     "data": {
      "text/plain": [
       "57"
      ]
     },
     "execution_count": 7,
     "metadata": {},
     "output_type": "execute_result"
    }
   ],
   "source": [
    "posts = []\n",
    "subreddit = reddit.subreddit('india')\n",
    "for post in subreddit.search('AMA',limit=100000):\n",
    "    if post.link_flair_text=='AMA':\n",
    "        post.comment_sort = 'top'\n",
    "        post.comments.replace_more(limit=0)\n",
    "        comments=[]\n",
    "        for comment in post.comments:\n",
    "            comments.append(comment.body)\n",
    "        comments = comments[:3]\n",
    "        posts.append([post.title, post.score, post.id, post.subreddit, post.url, post.num_comments, post.selftext, post.link_flair_text, post.stickied, post.upvote_ratio, comments, post.distinguished, post.edited, post.over_18, post.locked, post.is_original_content, post.is_self])\n",
    "posts = pd.DataFrame(posts,columns=['title', 'score', 'id', 'subreddit', 'url', 'num_comments', 'body', 'link_flair_text','stickied', 'upvote_ratio', 'comments', 'distinguished','edited','over_18','locked','is_original_content','is_self'])\n",
    "posts.to_csv('ama.csv',index = False)\n",
    "len(posts.id)"
   ]
  },
  {
   "cell_type": "code",
   "execution_count": 8,
   "metadata": {},
   "outputs": [
    {
     "data": {
      "text/plain": [
       "244"
      ]
     },
     "execution_count": 8,
     "metadata": {},
     "output_type": "execute_result"
    }
   ],
   "source": [
    "\n",
    "posts = []\n",
    "subreddit = reddit.subreddit('india')\n",
    "for post in subreddit.search('CAA-NRC',limit=100000):\n",
    "    post.comment_sort = 'top'\n",
    "    post.comments.replace_more(limit=0)\n",
    "    comments=[]\n",
    "    for comment in post.comments:\n",
    "        comments.append(comment.body)\n",
    "    comments = comments[:3]\n",
    "    posts.append([post.title, post.score, post.id, post.subreddit, post.url, post.num_comments, post.selftext, post.link_flair_text, post.stickied, post.upvote_ratio, comments, post.distinguished, post.edited, post.over_18, post.locked, post.is_original_content, post.is_self])\n",
    "posts = pd.DataFrame(posts,columns=['title', 'score', 'id', 'subreddit', 'url', 'num_comments', 'body', 'link_flair_text','stickied', 'upvote_ratio', 'comments', 'distinguished','edited','over_18','locked','is_original_content','is_self'])\n",
    "posts.to_csv('caa.csv',index = False)\n",
    "len(posts.id)"
   ]
  },
  {
   "cell_type": "code",
   "execution_count": 10,
   "metadata": {},
   "outputs": [
    {
     "data": {
      "text/plain": [
       "80"
      ]
     },
     "execution_count": 10,
     "metadata": {},
     "output_type": "execute_result"
    }
   ],
   "source": [
    "posts = []\n",
    "subreddit = reddit.subreddit('india')\n",
    "for post in subreddit.search('Megathread',limit=100000):\n",
    "    post.comment_sort = 'top'\n",
    "    post.comments.replace_more(limit=0)\n",
    "    comments=[]\n",
    "    for comment in post.comments:\n",
    "        comments.append(comment.body)\n",
    "    comments = comments[:3]\n",
    "    posts.append([post.title, post.score, post.id, post.subreddit, post.url, post.num_comments, post.selftext, post.link_flair_text, post.stickied, post.upvote_ratio, comments, post.distinguished, post.edited, post.over_18, post.locked, post.is_original_content, post.is_self])\n",
    "posts = pd.DataFrame(posts,columns=['title', 'score', 'id', 'subreddit', 'url', 'num_comments', 'body', 'link_flair_text','stickied', 'upvote_ratio', 'comments', 'distinguished','edited','over_18','locked','is_original_content','is_self'])\n",
    "posts.to_csv('mega.csv',index = False)\n",
    "len(posts.id)"
   ]
  },
  {
   "cell_type": "code",
   "execution_count": 13,
   "metadata": {},
   "outputs": [
    {
     "data": {
      "text/plain": [
       "99"
      ]
     },
     "execution_count": 13,
     "metadata": {},
     "output_type": "execute_result"
    }
   ],
   "source": [
    "posts = []\n",
    "subreddit = reddit.subreddit('india')\n",
    "for post in subreddit.search('Demonetization',limit=100000):\n",
    "    if post.link_flair_text=='Demonetization':\n",
    "        post.comment_sort = 'top'\n",
    "        post.comments.replace_more(limit=0)\n",
    "        comments=[]\n",
    "        for comment in post.comments:\n",
    "            comments.append(comment.body)\n",
    "        comments = comments[:3]\n",
    "        posts.append([post.title, post.score, post.id, post.subreddit, post.url, post.num_comments, post.selftext, post.link_flair_text, post.stickied, post.upvote_ratio, comments, post.distinguished, post.edited, post.over_18, post.locked, post.is_original_content, post.is_self])\n",
    "posts = pd.DataFrame(posts,columns=['title', 'score', 'id', 'subreddit', 'url', 'num_comments', 'body', 'link_flair_text','stickied', 'upvote_ratio', 'comments', 'distinguished','edited','over_18','locked','is_original_content','is_self'])\n",
    "posts.to_csv('policy.csv',index = False)\n",
    "len(posts.id)"
   ]
  },
  {
   "cell_type": "code",
   "execution_count": 14,
   "metadata": {},
   "outputs": [
    {
     "data": {
      "text/plain": [
       "30"
      ]
     },
     "execution_count": 14,
     "metadata": {},
     "output_type": "execute_result"
    }
   ],
   "source": [
    "posts = []\n",
    "subreddit = reddit.subreddit('india')\n",
    "for post in subreddit.search('Photography',limit=100000):\n",
    "    if post.link_flair_text=='Photography':\n",
    "        post.comment_sort = 'top'\n",
    "        post.comments.replace_more(limit=0)\n",
    "        comments=[]\n",
    "        for comment in post.comments:\n",
    "            comments.append(comment.body)\n",
    "        comments = comments[:3]\n",
    "        posts.append([post.title, post.score, post.id, post.subreddit, post.url, post.num_comments, post.selftext, post.link_flair_text, post.stickied, post.upvote_ratio, comments, post.distinguished, post.edited, post.over_18, post.locked, post.is_original_content, post.is_self])\n",
    "posts = pd.DataFrame(posts,columns=['title', 'score', 'id', 'subreddit', 'url', 'num_comments', 'body', 'link_flair_text','stickied', 'upvote_ratio', 'comments', 'distinguished','edited','over_18','locked','is_original_content','is_self'])\n",
    "posts.to_csv('photo.csv',index = False)\n",
    "len(posts.id)"
   ]
  },
  {
   "cell_type": "code",
   "execution_count": 15,
   "metadata": {},
   "outputs": [
    {
     "data": {
      "text/plain": [
       "12"
      ]
     },
     "execution_count": 15,
     "metadata": {},
     "output_type": "execute_result"
    }
   ],
   "source": [
    "posts = []\n",
    "subreddit = reddit.subreddit('india')\n",
    "for post in subreddit.search('[R]eddiquette',limit=100000):\n",
    "    if post.link_flair_text=='[R]eddiquette':\n",
    "        post.comment_sort = 'top'\n",
    "        post.comments.replace_more(limit=0)\n",
    "        comments=[]\n",
    "        for comment in post.comments:\n",
    "            comments.append(comment.body)\n",
    "        comments = comments[:3]\n",
    "        posts.append([post.title, post.score, post.id, post.subreddit, post.url, post.num_comments, post.selftext, post.link_flair_text, post.stickied, post.upvote_ratio, comments, post.distinguished, post.edited, post.over_18, post.locked, post.is_original_content, post.is_self])\n",
    "posts = pd.DataFrame(posts,columns=['title', 'score', 'id', 'subreddit', 'url', 'num_comments', 'body', 'link_flair_text','stickied', 'upvote_ratio', 'comments', 'distinguished','edited','over_18','locked','is_original_content','is_self'])\n",
    "posts.to_csv('ettiqutte.csv',index = False)\n",
    "len(posts.id)"
   ]
  },
  {
   "cell_type": "code",
   "execution_count": 22,
   "metadata": {},
   "outputs": [
    {
     "data": {
      "text/plain": [
       "222"
      ]
     },
     "execution_count": 22,
     "metadata": {},
     "output_type": "execute_result"
    }
   ],
   "source": [
    "posts = []\n",
    "subreddit = reddit.subreddit('india')\n",
    "for post in subreddit.search('Moderated',limit=100000):\n",
    "    #if post.link_flair_text=='Moderated':\n",
    "    post.comment_sort = 'top'\n",
    "    post.comments.replace_more(limit=0)\n",
    "    comments=[]\n",
    "    for comment in post.comments:\n",
    "        comments.append(comment.body)\n",
    "    comments = comments[:3]\n",
    "    posts.append([post.title, post.score, post.id, post.subreddit, post.url, post.num_comments, post.selftext, post.link_flair_text, post.stickied, post.upvote_ratio, comments, post.distinguished, post.edited, post.over_18, post.locked, post.is_original_content, post.is_self])\n",
    "posts = pd.DataFrame(posts,columns=['title', 'score', 'id', 'subreddit', 'url', 'num_comments', 'body', 'link_flair_text','stickied', 'upvote_ratio', 'comments', 'distinguished','edited','over_18','locked','is_original_content','is_self'])\n",
    "posts.to_csv('moderator.csv',index = False)\n",
    "len(posts.id)"
   ]
  },
  {
   "cell_type": "code",
   "execution_count": 24,
   "metadata": {},
   "outputs": [
    {
     "data": {
      "text/plain": [
       "244"
      ]
     },
     "execution_count": 24,
     "metadata": {},
     "output_type": "execute_result"
    }
   ],
   "source": [
    "posts = []\n",
    "subreddit = reddit.subreddit('india')\n",
    "for post in subreddit.search('OC',limit=100000):\n",
    "    post.comment_sort = 'top'\n",
    "    post.comments.replace_more(limit=0)\n",
    "    comments=[]\n",
    "    for comment in post.comments:\n",
    "        comments.append(comment.body)\n",
    "    comments = comments[:3]\n",
    "    posts.append([post.title, post.score, post.id, post.subreddit, post.url, post.num_comments, post.selftext, post.link_flair_text, post.stickied, post.upvote_ratio, comments, post.distinguished, post.edited, post.over_18, post.locked, post.is_original_content, post.is_self])\n",
    "posts = pd.DataFrame(posts,columns=['title', 'score', 'id', 'subreddit', 'url', 'num_comments', 'body', 'link_flair_text','stickied', 'upvote_ratio', 'comments', 'distinguished','edited','over_18','locked','is_original_content','is_self'])\n",
    "posts.to_csv('OC.csv',index = False)\n",
    "len(posts.id)"
   ]
  },
  {
   "cell_type": "code",
   "execution_count": 26,
   "metadata": {},
   "outputs": [
    {
     "name": "stdout",
     "output_type": "stream",
     "text": [
      "8041227c-6517-11ea-b83e-0e7048fc0c5b\n",
      "8f105a84-7ea0-11e3-bba1-12313b0c91be\n",
      "8f105a84-7ea0-11e3-bba1-12313b0c91be\n",
      "0c1b1aea-3166-11e5-aaec-0ef63926eacd\n",
      "8f105a84-7ea0-11e3-bba1-12313b0c91be\n",
      "8041227c-6517-11ea-b83e-0e7048fc0c5b\n",
      "0c1b1aea-3166-11e5-aaec-0ef63926eacd\n",
      "0c1b1aea-3166-11e5-aaec-0ef63926eacd\n",
      "8041227c-6517-11ea-b83e-0e7048fc0c5b\n",
      "8041227c-6517-11ea-b83e-0e7048fc0c5b\n",
      "14165a30-316a-11e5-8f83-0ec07e44b9c3\n",
      "8f105a84-7ea0-11e3-bba1-12313b0c91be\n",
      "8f105a84-7ea0-11e3-bba1-12313b0c91be\n",
      "8f105a84-7ea0-11e3-bba1-12313b0c91be\n",
      "77f04f12-7ea0-11e3-ac66-22000a0b8292\n",
      "8f105a84-7ea0-11e3-bba1-12313b0c91be\n",
      "0c1b1aea-3166-11e5-aaec-0ef63926eacd\n",
      "77f04f12-7ea0-11e3-ac66-22000a0b8292\n",
      "8ecea7d6-3c8d-11ea-b467-0e4a6193ec5b\n",
      "8041227c-6517-11ea-b83e-0e7048fc0c5b\n"
     ]
    },
    {
     "ename": "AttributeError",
     "evalue": "'Submission' object has no attribute 'link_flair_template_id'",
     "output_type": "error",
     "traceback": [
      "\u001b[1;31m---------------------------------------------------------------------------\u001b[0m",
      "\u001b[1;31mAttributeError\u001b[0m                            Traceback (most recent call last)",
      "\u001b[1;32m<ipython-input-26-7369c106323c>\u001b[0m in \u001b[0;36m<module>\u001b[1;34m\u001b[0m\n\u001b[0;32m      4\u001b[0m \u001b[1;32mfor\u001b[0m \u001b[0mpost\u001b[0m \u001b[1;32min\u001b[0m \u001b[0msubreddit\u001b[0m\u001b[1;33m.\u001b[0m\u001b[0mnew\u001b[0m\u001b[1;33m(\u001b[0m\u001b[0mlimit\u001b[0m\u001b[1;33m=\u001b[0m\u001b[1;36m10000\u001b[0m\u001b[1;33m)\u001b[0m\u001b[1;33m:\u001b[0m\u001b[1;33m\u001b[0m\u001b[1;33m\u001b[0m\u001b[0m\n\u001b[0;32m      5\u001b[0m     \u001b[0mpost\u001b[0m\u001b[1;33m.\u001b[0m\u001b[0mcomment_sort\u001b[0m \u001b[1;33m=\u001b[0m \u001b[1;34m'top'\u001b[0m\u001b[1;33m\u001b[0m\u001b[1;33m\u001b[0m\u001b[0m\n\u001b[1;32m----> 6\u001b[1;33m     \u001b[0mprint\u001b[0m\u001b[1;33m(\u001b[0m\u001b[0mpost\u001b[0m\u001b[1;33m.\u001b[0m\u001b[0mlink_flair_template_id\u001b[0m\u001b[1;33m)\u001b[0m\u001b[1;33m\u001b[0m\u001b[1;33m\u001b[0m\u001b[0m\n\u001b[0m",
      "\u001b[1;32mC:\\ProgramData\\Anaconda3\\lib\\site-packages\\praw\\models\\reddit\\base.py\u001b[0m in \u001b[0;36m__getattr__\u001b[1;34m(self, attribute)\u001b[0m\n\u001b[0;32m     32\u001b[0m         \u001b[1;32mif\u001b[0m \u001b[1;32mnot\u001b[0m \u001b[0mattribute\u001b[0m\u001b[1;33m.\u001b[0m\u001b[0mstartswith\u001b[0m\u001b[1;33m(\u001b[0m\u001b[1;34m\"_\"\u001b[0m\u001b[1;33m)\u001b[0m \u001b[1;32mand\u001b[0m \u001b[1;32mnot\u001b[0m \u001b[0mself\u001b[0m\u001b[1;33m.\u001b[0m\u001b[0m_fetched\u001b[0m\u001b[1;33m:\u001b[0m\u001b[1;33m\u001b[0m\u001b[1;33m\u001b[0m\u001b[0m\n\u001b[0;32m     33\u001b[0m             \u001b[0mself\u001b[0m\u001b[1;33m.\u001b[0m\u001b[0m_fetch\u001b[0m\u001b[1;33m(\u001b[0m\u001b[1;33m)\u001b[0m\u001b[1;33m\u001b[0m\u001b[1;33m\u001b[0m\u001b[0m\n\u001b[1;32m---> 34\u001b[1;33m             \u001b[1;32mreturn\u001b[0m \u001b[0mgetattr\u001b[0m\u001b[1;33m(\u001b[0m\u001b[0mself\u001b[0m\u001b[1;33m,\u001b[0m \u001b[0mattribute\u001b[0m\u001b[1;33m)\u001b[0m\u001b[1;33m\u001b[0m\u001b[1;33m\u001b[0m\u001b[0m\n\u001b[0m\u001b[0;32m     35\u001b[0m         raise AttributeError(\n\u001b[0;32m     36\u001b[0m             \"{!r} object has no attribute {!r}\".format(\n",
      "\u001b[1;32mC:\\ProgramData\\Anaconda3\\lib\\site-packages\\praw\\models\\reddit\\base.py\u001b[0m in \u001b[0;36m__getattr__\u001b[1;34m(self, attribute)\u001b[0m\n\u001b[0;32m     35\u001b[0m         raise AttributeError(\n\u001b[0;32m     36\u001b[0m             \"{!r} object has no attribute {!r}\".format(\n\u001b[1;32m---> 37\u001b[1;33m                 \u001b[0mself\u001b[0m\u001b[1;33m.\u001b[0m\u001b[0m__class__\u001b[0m\u001b[1;33m.\u001b[0m\u001b[0m__name__\u001b[0m\u001b[1;33m,\u001b[0m \u001b[0mattribute\u001b[0m\u001b[1;33m\u001b[0m\u001b[1;33m\u001b[0m\u001b[0m\n\u001b[0m\u001b[0;32m     38\u001b[0m             )\n\u001b[0;32m     39\u001b[0m         )\n",
      "\u001b[1;31mAttributeError\u001b[0m: 'Submission' object has no attribute 'link_flair_template_id'"
     ]
    }
   ],
   "source": [
    "posts = []\n",
    "subreddit = reddit.subreddit('india')\n",
    "\n",
    "for post in subreddit.new(limit=10000):\n",
    "    post.comment_sort = 'top'\n",
    "    print(post.link_flair_template_id)"
   ]
  },
  {
   "cell_type": "code",
   "execution_count": null,
   "metadata": {},
   "outputs": [],
   "source": []
  }
 ],
 "metadata": {
  "kernelspec": {
   "display_name": "Python 3",
   "language": "python",
   "name": "python3"
  },
  "language_info": {
   "codemirror_mode": {
    "name": "ipython",
    "version": 3
   },
   "file_extension": ".py",
   "mimetype": "text/x-python",
   "name": "python",
   "nbconvert_exporter": "python",
   "pygments_lexer": "ipython3",
   "version": "3.7.6"
  }
 },
 "nbformat": 4,
 "nbformat_minor": 4
}

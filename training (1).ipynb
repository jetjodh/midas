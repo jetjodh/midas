{
  "nbformat": 4,
  "nbformat_minor": 0,
  "metadata": {
    "colab": {
      "name": "training.ipynb",
      "provenance": [],
      "machine_shape": "hm"
    },
    "kernelspec": {
      "name": "python3",
      "display_name": "Python 3"
    },
    "accelerator": "GPU"
  },
  "cells": [
    {
      "cell_type": "code",
      "metadata": {
        "id": "3lhVYh3dQzAq",
        "colab_type": "code",
        "outputId": "46e84bcc-a9f9-49e9-d7b3-fd776624b757",
        "colab": {
          "base_uri": "https://localhost:8080/",
          "height": 70
        }
      },
      "source": [
        "from google.colab import drive\n",
        "drive.mount('content')\n",
        "%cd content/\"My Drive\"/reddit"
      ],
      "execution_count": 0,
      "outputs": [
        {
          "output_type": "stream",
          "text": [
            "Drive already mounted at content; to attempt to forcibly remount, call drive.mount(\"content\", force_remount=True).\n",
            "/content/content/My Drive/reddit\n"
          ],
          "name": "stdout"
        }
      ]
    },
    {
      "cell_type": "markdown",
      "metadata": {
        "id": "d9aWlnxiy2JR",
        "colab_type": "text"
      },
      "source": [
        "Importing necessary libraries and reading the cleaned csv file"
      ]
    },
    {
      "cell_type": "code",
      "metadata": {
        "id": "cPPADWO6PKE6",
        "colab_type": "code",
        "outputId": "42371622-2576-49ff-9c0d-8d3685d21a89",
        "colab": {
          "base_uri": "https://localhost:8080/",
          "height": 70
        }
      },
      "source": [
        "import pandas as pd\n",
        "data = pd.read_csv('reddit.csv')\n",
        "data = data.drop_duplicates(subset='id',keep='last')\n",
        "data.drop(['author_flair_css_class','author_flair_richtext','author_flair_text','author_flair_type','author_fullname'\n",
        "           ,'approved_at_utc','banned_at_utc','full_link','id','link_flair_background_color','permalink','media_embed'\n",
        "           ,'secure_media','secure_media_embed','media','author_flair_background_color','media_metadata','discussion_type'\n",
        "           ,'crosspost_parent','crosspost_parent_list','author_created_utc','category','content_categories','removal_reason'\n",
        "           ,'subreddit_name_prefixed','author_id','previous_visits','view_count','thumbnail_height','thumbnail_width'\n",
        "           ,'subreddit_subscribers','event_end','event_start','created_utc','retrieved_on','created','edited',\n",
        "           'updated_utc','mod_reports','user_reports','rte_mode','steward_reports','event_is_live','suggested_sort'\n",
        "           ,'distinguished','can_gild','archived','og_title','og_description','quarantine','author_flair_text_color'\n",
        "           ,'author_flair_template_id','link_flair_template_id','link_flair_css_class','treatment_tags','subreddit_id'\n",
        "           ,'subreddit','preview','gildings','awarders','allow_live_comments','all_awardings','link_flair_text_color',\n",
        "           'link_flair_richtext','link_flair_type','pwls','wls','subreddit_type'],axis=1,inplace=True)"
      ],
      "execution_count": 0,
      "outputs": [
        {
          "output_type": "stream",
          "text": [
            "/usr/local/lib/python3.6/dist-packages/IPython/core/interactiveshell.py:2718: DtypeWarning: Columns (0,1,3,4,5,6,7,8,9,10,11,12,16,18,19,20,21,22,24,25,26,27,28,29,30,31,35,37,38,39,41,45,46,47,51,57,59,62,63,64,65,66,67,68,70,71,72,73,74,76,78,79,80,82,84,85,87,88,89,90,95,96,97,98,99,100,101,102,103,107,108) have mixed types.Specify dtype option on import or set low_memory=False.\n",
            "  interactivity=interactivity, compiler=compiler, result=result)\n"
          ],
          "name": "stderr"
        }
      ]
    },
    {
      "cell_type": "code",
      "metadata": {
        "id": "ekXeADKSS6UB",
        "colab_type": "code",
        "colab": {}
      },
      "source": [
        "data = data[data['link_flair_text'].notna()]\n",
        "\n",
        "data.link_flair_text = data.link_flair_text.replace('Science', 'Science/Technology')\n",
        "data.link_flair_text = data.link_flair_text.replace('Politics [Megathread]', 'Politics')\n",
        "data.link_flair_text = data.link_flair_text.replace('Policy', 'Policy/Economy')\n",
        "data.link_flair_text = data.link_flair_text.replace('Politics [OLD]', 'Politics')\n",
        "data.link_flair_text = data.link_flair_text.replace('Technology', 'Science/Technology')\n",
        "data.link_flair_text = data.link_flair_text.replace('Politics -- Source in comments', 'Politics')\n",
        "data.link_flair_text = data.link_flair_text.replace('Policy/Economy -2017 Article ', 'Policy/Economy')\n",
        "\n",
        "data = data[data.link_flair_text.isin(['AskIndia','Non-Political','Scheduled','Photography','Science/Technology',\n",
        "                                         'Politics','Business/Finance','Policy/Economy','Sports','Food','[R]eddiquette'])]\n",
        "\n",
        "data.brand_safe.fillna(False,inplace=True)\n",
        "data.removed_by.fillna('none',inplace=True)\n",
        "data.gilded.fillna(0.0,inplace=True)\n",
        "data.loc[(~data.poll_data.isna()),'poll_data']=True\n",
        "data.poll_data.fillna(False,inplace=True)\n",
        "data.hidden.fillna(True,inplace=True)\n",
        "data.banned_by.fillna('none',inplace=True)\n",
        "data.author_cakeday.fillna(False,inplace=True)\n",
        "data.whitelist_status.fillna('no_ads',inplace=True)\n",
        "data.total_awards_received.fillna(0.0,inplace=True)\n",
        "data.thumbnail.fillna('self',inplace=True)\n",
        "data.spoiler.fillna(False,inplace=True)\n",
        "data.send_replies.fillna(True,inplace=True)\n",
        "data.removed_by_category.fillna('none',inplace=True)\n",
        "data.post_hint.fillna('text',inplace=True)\n",
        "data.pinned.fillna(True,inplace=True)\n",
        "data.parent_whitelist_status.fillna('no_ads',inplace=True)\n",
        "data.num_crossposts.fillna(0.0,inplace=True)\n",
        "data.no_follow.fillna(False,inplace=True)\n",
        "data.media_only.fillna(True,inplace=True)\n",
        "data.locked.fillna(True,inplace=True)\n",
        "data.is_video.fillna(False,inplace=True)\n",
        "data.is_robot_indexable.fillna(True,inplace=True)\n",
        "data.is_reddit_media_domain.fillna(False,inplace=True)\n",
        "data.is_original_content.fillna(False,inplace=True)\n",
        "data.is_meta.fillna(True,inplace=True)\n",
        "data.is_crosspostable.fillna(True,inplace=True)\n",
        "data.contest_mode.fillna(False,inplace=True)\n",
        "data.can_mod_post.fillna(True,inplace=True)\n",
        "data.author_premium.fillna(False,inplace=True)\n",
        "data.author_patreon_flair.fillna(True,inplace=True)\n",
        "data.selftext.fillna('none',inplace=True)"
      ],
      "execution_count": 0,
      "outputs": []
    },
    {
      "cell_type": "markdown",
      "metadata": {
        "id": "vOt78SrCzAuZ",
        "colab_type": "text"
      },
      "source": [
        "Changing bool values into int values for feeding into neural networks."
      ]
    },
    {
      "cell_type": "code",
      "metadata": {
        "id": "XOqwEABJPmid",
        "colab_type": "code",
        "outputId": "d4a4481d-6464-4cee-bd88-6d268aaf6fb1",
        "colab": {
          "base_uri": "https://localhost:8080/",
          "height": 669
        }
      },
      "source": [
        "data = data*1\n",
        "data.head()"
      ],
      "execution_count": 0,
      "outputs": [
        {
          "output_type": "execute_result",
          "data": {
            "text/html": [
              "<div>\n",
              "<style scoped>\n",
              "    .dataframe tbody tr th:only-of-type {\n",
              "        vertical-align: middle;\n",
              "    }\n",
              "\n",
              "    .dataframe tbody tr th {\n",
              "        vertical-align: top;\n",
              "    }\n",
              "\n",
              "    .dataframe thead th {\n",
              "        text-align: right;\n",
              "    }\n",
              "</style>\n",
              "<table border=\"1\" class=\"dataframe\">\n",
              "  <thead>\n",
              "    <tr style=\"text-align: right;\">\n",
              "      <th></th>\n",
              "      <th>author</th>\n",
              "      <th>author_patreon_flair</th>\n",
              "      <th>author_premium</th>\n",
              "      <th>can_mod_post</th>\n",
              "      <th>contest_mode</th>\n",
              "      <th>domain</th>\n",
              "      <th>is_crosspostable</th>\n",
              "      <th>is_meta</th>\n",
              "      <th>is_original_content</th>\n",
              "      <th>is_reddit_media_domain</th>\n",
              "      <th>is_robot_indexable</th>\n",
              "      <th>is_self</th>\n",
              "      <th>is_video</th>\n",
              "      <th>locked</th>\n",
              "      <th>media_only</th>\n",
              "      <th>no_follow</th>\n",
              "      <th>num_comments</th>\n",
              "      <th>num_crossposts</th>\n",
              "      <th>over_18</th>\n",
              "      <th>parent_whitelist_status</th>\n",
              "      <th>pinned</th>\n",
              "      <th>post_hint</th>\n",
              "      <th>removed_by_category</th>\n",
              "      <th>score</th>\n",
              "      <th>selftext</th>\n",
              "      <th>send_replies</th>\n",
              "      <th>spoiler</th>\n",
              "      <th>stickied</th>\n",
              "      <th>thumbnail</th>\n",
              "      <th>title</th>\n",
              "      <th>total_awards_received</th>\n",
              "      <th>url</th>\n",
              "      <th>whitelist_status</th>\n",
              "      <th>link_flair_text</th>\n",
              "      <th>author_cakeday</th>\n",
              "      <th>banned_by</th>\n",
              "      <th>poll_data</th>\n",
              "      <th>gilded</th>\n",
              "      <th>removed_by</th>\n",
              "      <th>hidden</th>\n",
              "      <th>brand_safe</th>\n",
              "    </tr>\n",
              "  </thead>\n",
              "  <tbody>\n",
              "    <tr>\n",
              "      <th>1</th>\n",
              "      <td>pkmcreation</td>\n",
              "      <td>0</td>\n",
              "      <td>0</td>\n",
              "      <td>0</td>\n",
              "      <td>0</td>\n",
              "      <td>pkmcreation.com</td>\n",
              "      <td>0</td>\n",
              "      <td>0</td>\n",
              "      <td>0</td>\n",
              "      <td>0</td>\n",
              "      <td>0</td>\n",
              "      <td>0</td>\n",
              "      <td>0</td>\n",
              "      <td>0</td>\n",
              "      <td>0</td>\n",
              "      <td>1</td>\n",
              "      <td>0</td>\n",
              "      <td>0.0</td>\n",
              "      <td>0</td>\n",
              "      <td>all_ads</td>\n",
              "      <td>0</td>\n",
              "      <td>text</td>\n",
              "      <td>reddit</td>\n",
              "      <td>1</td>\n",
              "      <td>none</td>\n",
              "      <td>1</td>\n",
              "      <td>0</td>\n",
              "      <td>0</td>\n",
              "      <td>default</td>\n",
              "      <td>North Korea: ऐसा देश जहां बुनियादी अधिकारों को...</td>\n",
              "      <td>0.0</td>\n",
              "      <td>https://www.pkmcreation.com/2020/04/north-kore...</td>\n",
              "      <td>all_ads</td>\n",
              "      <td>Non-Political</td>\n",
              "      <td>0</td>\n",
              "      <td>none</td>\n",
              "      <td>0</td>\n",
              "      <td>0.0</td>\n",
              "      <td>none</td>\n",
              "      <td>1</td>\n",
              "      <td>0</td>\n",
              "    </tr>\n",
              "    <tr>\n",
              "      <th>2</th>\n",
              "      <td>BigBulkemails</td>\n",
              "      <td>0</td>\n",
              "      <td>0</td>\n",
              "      <td>0</td>\n",
              "      <td>0</td>\n",
              "      <td>self.india</td>\n",
              "      <td>1</td>\n",
              "      <td>0</td>\n",
              "      <td>0</td>\n",
              "      <td>0</td>\n",
              "      <td>1</td>\n",
              "      <td>1</td>\n",
              "      <td>0</td>\n",
              "      <td>0</td>\n",
              "      <td>0</td>\n",
              "      <td>1</td>\n",
              "      <td>1</td>\n",
              "      <td>0.0</td>\n",
              "      <td>0</td>\n",
              "      <td>all_ads</td>\n",
              "      <td>0</td>\n",
              "      <td>text</td>\n",
              "      <td>none</td>\n",
              "      <td>1</td>\n",
              "      <td>[Article](https://www.india.com/viral/over-93-...</td>\n",
              "      <td>1</td>\n",
              "      <td>0</td>\n",
              "      <td>0</td>\n",
              "      <td>self</td>\n",
              "      <td>93.5% people think Modi govt will handle Covid...</td>\n",
              "      <td>0.0</td>\n",
              "      <td>https://www.reddit.com/r/india/comments/g6jvwx...</td>\n",
              "      <td>all_ads</td>\n",
              "      <td>Politics</td>\n",
              "      <td>0</td>\n",
              "      <td>none</td>\n",
              "      <td>0</td>\n",
              "      <td>0.0</td>\n",
              "      <td>none</td>\n",
              "      <td>1</td>\n",
              "      <td>0</td>\n",
              "    </tr>\n",
              "    <tr>\n",
              "      <th>3</th>\n",
              "      <td>Ib90</td>\n",
              "      <td>0</td>\n",
              "      <td>0</td>\n",
              "      <td>0</td>\n",
              "      <td>0</td>\n",
              "      <td>indiatoday.in</td>\n",
              "      <td>1</td>\n",
              "      <td>0</td>\n",
              "      <td>0</td>\n",
              "      <td>0</td>\n",
              "      <td>1</td>\n",
              "      <td>0</td>\n",
              "      <td>0</td>\n",
              "      <td>0</td>\n",
              "      <td>0</td>\n",
              "      <td>1</td>\n",
              "      <td>0</td>\n",
              "      <td>0.0</td>\n",
              "      <td>0</td>\n",
              "      <td>all_ads</td>\n",
              "      <td>0</td>\n",
              "      <td>text</td>\n",
              "      <td>none</td>\n",
              "      <td>1</td>\n",
              "      <td>none</td>\n",
              "      <td>1</td>\n",
              "      <td>0</td>\n",
              "      <td>0</td>\n",
              "      <td>default</td>\n",
              "      <td>BJP spreading virus of communal hatred, prejud...</td>\n",
              "      <td>0.0</td>\n",
              "      <td>https://www.indiatoday.in/india/story/bjp-spre...</td>\n",
              "      <td>all_ads</td>\n",
              "      <td>Politics</td>\n",
              "      <td>0</td>\n",
              "      <td>none</td>\n",
              "      <td>0</td>\n",
              "      <td>0.0</td>\n",
              "      <td>none</td>\n",
              "      <td>1</td>\n",
              "      <td>0</td>\n",
              "    </tr>\n",
              "    <tr>\n",
              "      <th>5</th>\n",
              "      <td>tandoori_idli</td>\n",
              "      <td>0</td>\n",
              "      <td>0</td>\n",
              "      <td>0</td>\n",
              "      <td>0</td>\n",
              "      <td>ndtv.com</td>\n",
              "      <td>1</td>\n",
              "      <td>0</td>\n",
              "      <td>0</td>\n",
              "      <td>0</td>\n",
              "      <td>1</td>\n",
              "      <td>0</td>\n",
              "      <td>0</td>\n",
              "      <td>0</td>\n",
              "      <td>0</td>\n",
              "      <td>1</td>\n",
              "      <td>0</td>\n",
              "      <td>0.0</td>\n",
              "      <td>0</td>\n",
              "      <td>all_ads</td>\n",
              "      <td>0</td>\n",
              "      <td>text</td>\n",
              "      <td>none</td>\n",
              "      <td>1</td>\n",
              "      <td>none</td>\n",
              "      <td>1</td>\n",
              "      <td>0</td>\n",
              "      <td>0</td>\n",
              "      <td>default</td>\n",
              "      <td>Increment On Dearness Allowance For Central Go...</td>\n",
              "      <td>0.0</td>\n",
              "      <td>https://www.ndtv.com/business/covid-19-news-in...</td>\n",
              "      <td>all_ads</td>\n",
              "      <td>Non-Political</td>\n",
              "      <td>0</td>\n",
              "      <td>none</td>\n",
              "      <td>0</td>\n",
              "      <td>0.0</td>\n",
              "      <td>none</td>\n",
              "      <td>1</td>\n",
              "      <td>0</td>\n",
              "    </tr>\n",
              "    <tr>\n",
              "      <th>6</th>\n",
              "      <td>thestreetsareours</td>\n",
              "      <td>0</td>\n",
              "      <td>0</td>\n",
              "      <td>0</td>\n",
              "      <td>0</td>\n",
              "      <td>timesofindia.indiatimes.com</td>\n",
              "      <td>1</td>\n",
              "      <td>0</td>\n",
              "      <td>0</td>\n",
              "      <td>0</td>\n",
              "      <td>1</td>\n",
              "      <td>0</td>\n",
              "      <td>0</td>\n",
              "      <td>0</td>\n",
              "      <td>0</td>\n",
              "      <td>1</td>\n",
              "      <td>0</td>\n",
              "      <td>0.0</td>\n",
              "      <td>0</td>\n",
              "      <td>all_ads</td>\n",
              "      <td>0</td>\n",
              "      <td>text</td>\n",
              "      <td>none</td>\n",
              "      <td>1</td>\n",
              "      <td>none</td>\n",
              "      <td>0</td>\n",
              "      <td>0</td>\n",
              "      <td>0</td>\n",
              "      <td>default</td>\n",
              "      <td>6 Muslim families in Jind district convert to ...</td>\n",
              "      <td>0.0</td>\n",
              "      <td>https://timesofindia.indiatimes.com/city/gurga...</td>\n",
              "      <td>all_ads</td>\n",
              "      <td>Non-Political</td>\n",
              "      <td>0</td>\n",
              "      <td>none</td>\n",
              "      <td>0</td>\n",
              "      <td>0.0</td>\n",
              "      <td>none</td>\n",
              "      <td>1</td>\n",
              "      <td>0</td>\n",
              "    </tr>\n",
              "  </tbody>\n",
              "</table>\n",
              "</div>"
            ],
            "text/plain": [
              "              author  author_patreon_flair  ...  hidden  brand_safe\n",
              "1        pkmcreation                     0  ...       1           0\n",
              "2      BigBulkemails                     0  ...       1           0\n",
              "3               Ib90                     0  ...       1           0\n",
              "5      tandoori_idli                     0  ...       1           0\n",
              "6  thestreetsareours                     0  ...       1           0\n",
              "\n",
              "[5 rows x 41 columns]"
            ]
          },
          "metadata": {
            "tags": []
          },
          "execution_count": 4
        }
      ]
    },
    {
      "cell_type": "markdown",
      "metadata": {
        "id": "CiJ0I2GZbfdG",
        "colab_type": "text"
      },
      "source": [
        "Dividing the data into categorical, numerical and textual features for individual preprocessing."
      ]
    },
    {
      "cell_type": "code",
      "metadata": {
        "id": "0-TfiQ8jXSZn",
        "colab_type": "code",
        "colab": {}
      },
      "source": [
        "#data.drop(['index'],axis=1,inplace=True)\n",
        "numeric_features = data[['gilded','score','total_awards_received','num_crossposts','num_comments']]\n",
        "categorical_features = data[['author_patreon_flair','author_premium','can_mod_post','contest_mode',\n",
        "                             'is_crosspostable','is_meta','is_original_content','is_reddit_media_domain',\n",
        "                             'is_robot_indexable','is_self','is_video','locked','media_only','no_follow',\n",
        "                             'parent_whitelist_status','pinned','post_hint','removed_by_category',\n",
        "                             'send_replies','stickied','whitelist_status','author_cakeday','thumbnail',\n",
        "                             'spoiler','locked','over_18','is_original_content','is_self',\n",
        "                           'poll_data','removed_by','banned_by','hidden','brand_safe']]\n",
        "text_features = data[['domain','title','url']]\n",
        "target_feature = data[['link_flair_text']]  "
      ],
      "execution_count": 0,
      "outputs": []
    },
    {
      "cell_type": "code",
      "metadata": {
        "id": "3IZVjFAUSd80",
        "colab_type": "code",
        "outputId": "0aa3bf0a-dc5f-453d-d75e-4fa70550fbac",
        "colab": {
          "base_uri": "https://localhost:8080/",
          "height": 34
        }
      },
      "source": [
        "target_feature.shape"
      ],
      "execution_count": 0,
      "outputs": [
        {
          "output_type": "execute_result",
          "data": {
            "text/plain": [
              "(591484, 1)"
            ]
          },
          "metadata": {
            "tags": []
          },
          "execution_count": 6
        }
      ]
    },
    {
      "cell_type": "markdown",
      "metadata": {
        "id": "kT97lun4bxNY",
        "colab_type": "text"
      },
      "source": [
        "Mapping the categorical variable's values to an integer, so that it can be feeded to the neural network."
      ]
    },
    {
      "cell_type": "code",
      "metadata": {
        "id": "wSqaBHrHFM00",
        "colab_type": "code",
        "outputId": "46f8dd3e-687f-4171-ede2-6fc3c2cb7a37",
        "colab": {
          "base_uri": "https://localhost:8080/",
          "height": 238
        }
      },
      "source": [
        "\n",
        "categorical_features['thumbnail'] = categorical_features['thumbnail'].str.replace('http\\S+|www.\\S+', 'link', case=False)      \n",
        "thumbnail_labels = categorical_features['thumbnail'].astype('category').cat.categories.tolist()\n",
        "thumbnail_map_comp = {'default': 1, 'link': 2, 'nsfw': 3, 'self': 4, 'spoiler': 5}\n",
        "categorical_features.thumbnail = categorical_features.thumbnail.map(thumbnail_map_comp)\n",
        "\n",
        "whitelist_status_labels = categorical_features['whitelist_status'].astype('category').cat.categories.tolist()\n",
        "whitelist_status_map_comp = {'all_ads': 1, 'no_ads': 2, 'promo_adult_nsfw': 3}\n",
        "categorical_features.whitelist_status = categorical_features.whitelist_status.map(whitelist_status_map_comp)\n",
        "\n",
        "banned_by_labels = categorical_features['banned_by'].astype('category').cat.categories.tolist()\n",
        "banned_by_map_comp = {'moderators': 1, 'none': 2}\n",
        "categorical_features.banned_by = categorical_features.banned_by.map(banned_by_map_comp)\n",
        "\n",
        "parent_whitelist_status_labels = categorical_features['parent_whitelist_status'].astype('category').cat.categories.tolist()\n",
        "parent_whitelist_status_map_comp = {'all_ads': 1, 'no_ads': 2}\n",
        "#print(parent_whitelist_status_map_comp)\n",
        "categorical_features.parent_whitelist_status = categorical_features.parent_whitelist_status.map(parent_whitelist_status_map_comp)\n",
        "\n",
        "post_hint_labels = categorical_features['post_hint'].astype('category').cat.categories.tolist()\n",
        "post_hint_map_comp = {'hosted:video': 1, 'image': 2, 'link': 3, 'rich:video': 4, 'self': 5, 'text': 6, 'video': 7}\n",
        "#print(post_hint_map_comp)\n",
        "categorical_features.post_hint = categorical_features.post_hint.map(post_hint_map_comp)\n",
        "\n",
        "removed_by_category_labels = categorical_features['removed_by_category'].astype('category').cat.categories.tolist()\n",
        "removed_by_category_map_comp = {'automod_filtered': 1, 'deleted': 2, 'moderator': 3, 'none': 4, 'reddit': 5}\n",
        "#print(removed_by_category_map_comp)\n",
        "categorical_features.removed_by_category = categorical_features.removed_by_category.map(removed_by_category_map_comp)\n",
        "\n",
        "removed_by_labels = categorical_features['removed_by'].astype('category').cat.categories.tolist()\n",
        "removed_by_map_comp = {'reddit': 1, 'deleted': 2, 'moderator': 3, 'none': 4}\n",
        "#print(removed_by_category_map_comp)\n",
        "categorical_features.removed_by = categorical_features.removed_by.map(removed_by_map_comp)"
      ],
      "execution_count": 0,
      "outputs": [
        {
          "output_type": "stream",
          "text": [
            "/usr/local/lib/python3.6/dist-packages/ipykernel_launcher.py:2: SettingWithCopyWarning: \n",
            "A value is trying to be set on a copy of a slice from a DataFrame.\n",
            "Try using .loc[row_indexer,col_indexer] = value instead\n",
            "\n",
            "See the caveats in the documentation: https://pandas.pydata.org/pandas-docs/stable/user_guide/indexing.html#returning-a-view-versus-a-copy\n",
            "  \n",
            "/usr/local/lib/python3.6/dist-packages/pandas/core/generic.py:5303: SettingWithCopyWarning: \n",
            "A value is trying to be set on a copy of a slice from a DataFrame.\n",
            "Try using .loc[row_indexer,col_indexer] = value instead\n",
            "\n",
            "See the caveats in the documentation: https://pandas.pydata.org/pandas-docs/stable/user_guide/indexing.html#returning-a-view-versus-a-copy\n",
            "  self[name] = value\n"
          ],
          "name": "stderr"
        }
      ]
    },
    {
      "cell_type": "code",
      "metadata": {
        "id": "FBIdPbXiWaSb",
        "colab_type": "code",
        "outputId": "f58de73c-658c-4a03-d9e7-c8d88ddd3b33",
        "colab": {
          "base_uri": "https://localhost:8080/",
          "height": 215
        }
      },
      "source": [
        "categorical_features.head()"
      ],
      "execution_count": 0,
      "outputs": [
        {
          "output_type": "execute_result",
          "data": {
            "text/html": [
              "<div>\n",
              "<style scoped>\n",
              "    .dataframe tbody tr th:only-of-type {\n",
              "        vertical-align: middle;\n",
              "    }\n",
              "\n",
              "    .dataframe tbody tr th {\n",
              "        vertical-align: top;\n",
              "    }\n",
              "\n",
              "    .dataframe thead th {\n",
              "        text-align: right;\n",
              "    }\n",
              "</style>\n",
              "<table border=\"1\" class=\"dataframe\">\n",
              "  <thead>\n",
              "    <tr style=\"text-align: right;\">\n",
              "      <th></th>\n",
              "      <th>author_patreon_flair</th>\n",
              "      <th>author_premium</th>\n",
              "      <th>can_mod_post</th>\n",
              "      <th>contest_mode</th>\n",
              "      <th>is_crosspostable</th>\n",
              "      <th>is_meta</th>\n",
              "      <th>is_original_content</th>\n",
              "      <th>is_reddit_media_domain</th>\n",
              "      <th>is_robot_indexable</th>\n",
              "      <th>is_self</th>\n",
              "      <th>is_video</th>\n",
              "      <th>locked</th>\n",
              "      <th>media_only</th>\n",
              "      <th>no_follow</th>\n",
              "      <th>parent_whitelist_status</th>\n",
              "      <th>pinned</th>\n",
              "      <th>post_hint</th>\n",
              "      <th>removed_by_category</th>\n",
              "      <th>send_replies</th>\n",
              "      <th>stickied</th>\n",
              "      <th>whitelist_status</th>\n",
              "      <th>author_cakeday</th>\n",
              "      <th>thumbnail</th>\n",
              "      <th>spoiler</th>\n",
              "      <th>locked</th>\n",
              "      <th>over_18</th>\n",
              "      <th>is_original_content</th>\n",
              "      <th>is_self</th>\n",
              "      <th>poll_data</th>\n",
              "      <th>removed_by</th>\n",
              "      <th>banned_by</th>\n",
              "      <th>hidden</th>\n",
              "      <th>brand_safe</th>\n",
              "    </tr>\n",
              "  </thead>\n",
              "  <tbody>\n",
              "    <tr>\n",
              "      <th>1</th>\n",
              "      <td>0</td>\n",
              "      <td>0</td>\n",
              "      <td>0</td>\n",
              "      <td>0</td>\n",
              "      <td>0</td>\n",
              "      <td>0</td>\n",
              "      <td>0</td>\n",
              "      <td>0</td>\n",
              "      <td>0</td>\n",
              "      <td>0</td>\n",
              "      <td>0</td>\n",
              "      <td>0</td>\n",
              "      <td>0</td>\n",
              "      <td>1</td>\n",
              "      <td>1</td>\n",
              "      <td>0</td>\n",
              "      <td>6</td>\n",
              "      <td>5</td>\n",
              "      <td>1</td>\n",
              "      <td>0</td>\n",
              "      <td>1</td>\n",
              "      <td>0</td>\n",
              "      <td>1</td>\n",
              "      <td>0</td>\n",
              "      <td>0</td>\n",
              "      <td>0</td>\n",
              "      <td>0</td>\n",
              "      <td>0</td>\n",
              "      <td>0</td>\n",
              "      <td>4</td>\n",
              "      <td>2</td>\n",
              "      <td>1</td>\n",
              "      <td>0</td>\n",
              "    </tr>\n",
              "    <tr>\n",
              "      <th>2</th>\n",
              "      <td>0</td>\n",
              "      <td>0</td>\n",
              "      <td>0</td>\n",
              "      <td>0</td>\n",
              "      <td>1</td>\n",
              "      <td>0</td>\n",
              "      <td>0</td>\n",
              "      <td>0</td>\n",
              "      <td>1</td>\n",
              "      <td>1</td>\n",
              "      <td>0</td>\n",
              "      <td>0</td>\n",
              "      <td>0</td>\n",
              "      <td>1</td>\n",
              "      <td>1</td>\n",
              "      <td>0</td>\n",
              "      <td>6</td>\n",
              "      <td>4</td>\n",
              "      <td>1</td>\n",
              "      <td>0</td>\n",
              "      <td>1</td>\n",
              "      <td>0</td>\n",
              "      <td>4</td>\n",
              "      <td>0</td>\n",
              "      <td>0</td>\n",
              "      <td>0</td>\n",
              "      <td>0</td>\n",
              "      <td>1</td>\n",
              "      <td>0</td>\n",
              "      <td>4</td>\n",
              "      <td>2</td>\n",
              "      <td>1</td>\n",
              "      <td>0</td>\n",
              "    </tr>\n",
              "    <tr>\n",
              "      <th>3</th>\n",
              "      <td>0</td>\n",
              "      <td>0</td>\n",
              "      <td>0</td>\n",
              "      <td>0</td>\n",
              "      <td>1</td>\n",
              "      <td>0</td>\n",
              "      <td>0</td>\n",
              "      <td>0</td>\n",
              "      <td>1</td>\n",
              "      <td>0</td>\n",
              "      <td>0</td>\n",
              "      <td>0</td>\n",
              "      <td>0</td>\n",
              "      <td>1</td>\n",
              "      <td>1</td>\n",
              "      <td>0</td>\n",
              "      <td>6</td>\n",
              "      <td>4</td>\n",
              "      <td>1</td>\n",
              "      <td>0</td>\n",
              "      <td>1</td>\n",
              "      <td>0</td>\n",
              "      <td>1</td>\n",
              "      <td>0</td>\n",
              "      <td>0</td>\n",
              "      <td>0</td>\n",
              "      <td>0</td>\n",
              "      <td>0</td>\n",
              "      <td>0</td>\n",
              "      <td>4</td>\n",
              "      <td>2</td>\n",
              "      <td>1</td>\n",
              "      <td>0</td>\n",
              "    </tr>\n",
              "    <tr>\n",
              "      <th>5</th>\n",
              "      <td>0</td>\n",
              "      <td>0</td>\n",
              "      <td>0</td>\n",
              "      <td>0</td>\n",
              "      <td>1</td>\n",
              "      <td>0</td>\n",
              "      <td>0</td>\n",
              "      <td>0</td>\n",
              "      <td>1</td>\n",
              "      <td>0</td>\n",
              "      <td>0</td>\n",
              "      <td>0</td>\n",
              "      <td>0</td>\n",
              "      <td>1</td>\n",
              "      <td>1</td>\n",
              "      <td>0</td>\n",
              "      <td>6</td>\n",
              "      <td>4</td>\n",
              "      <td>1</td>\n",
              "      <td>0</td>\n",
              "      <td>1</td>\n",
              "      <td>0</td>\n",
              "      <td>1</td>\n",
              "      <td>0</td>\n",
              "      <td>0</td>\n",
              "      <td>0</td>\n",
              "      <td>0</td>\n",
              "      <td>0</td>\n",
              "      <td>0</td>\n",
              "      <td>4</td>\n",
              "      <td>2</td>\n",
              "      <td>1</td>\n",
              "      <td>0</td>\n",
              "    </tr>\n",
              "    <tr>\n",
              "      <th>6</th>\n",
              "      <td>0</td>\n",
              "      <td>0</td>\n",
              "      <td>0</td>\n",
              "      <td>0</td>\n",
              "      <td>1</td>\n",
              "      <td>0</td>\n",
              "      <td>0</td>\n",
              "      <td>0</td>\n",
              "      <td>1</td>\n",
              "      <td>0</td>\n",
              "      <td>0</td>\n",
              "      <td>0</td>\n",
              "      <td>0</td>\n",
              "      <td>1</td>\n",
              "      <td>1</td>\n",
              "      <td>0</td>\n",
              "      <td>6</td>\n",
              "      <td>4</td>\n",
              "      <td>0</td>\n",
              "      <td>0</td>\n",
              "      <td>1</td>\n",
              "      <td>0</td>\n",
              "      <td>1</td>\n",
              "      <td>0</td>\n",
              "      <td>0</td>\n",
              "      <td>0</td>\n",
              "      <td>0</td>\n",
              "      <td>0</td>\n",
              "      <td>0</td>\n",
              "      <td>4</td>\n",
              "      <td>2</td>\n",
              "      <td>1</td>\n",
              "      <td>0</td>\n",
              "    </tr>\n",
              "  </tbody>\n",
              "</table>\n",
              "</div>"
            ],
            "text/plain": [
              "   author_patreon_flair  author_premium  ...  hidden  brand_safe\n",
              "1                     0               0  ...       1           0\n",
              "2                     0               0  ...       1           0\n",
              "3                     0               0  ...       1           0\n",
              "5                     0               0  ...       1           0\n",
              "6                     0               0  ...       1           0\n",
              "\n",
              "[5 rows x 33 columns]"
            ]
          },
          "metadata": {
            "tags": []
          },
          "execution_count": 8
        }
      ]
    },
    {
      "cell_type": "markdown",
      "metadata": {
        "id": "IE_ZyVsqcLl4",
        "colab_type": "text"
      },
      "source": [
        "Using label binarizer to transform the different classes in target column(i.e. link flair type) into vectors."
      ]
    },
    {
      "cell_type": "code",
      "metadata": {
        "id": "2_uA8WJHxUm1",
        "colab_type": "code",
        "colab": {}
      },
      "source": [
        "from sklearn.preprocessing import LabelBinarizer\n",
        "le = LabelBinarizer()\n",
        "le.fit(target_feature.values)\n",
        "label = le.transform(target_feature.values)"
      ],
      "execution_count": 0,
      "outputs": []
    },
    {
      "cell_type": "markdown",
      "metadata": {
        "id": "wYdV1ZuWd264",
        "colab_type": "text"
      },
      "source": [
        "Cleaning the text in title column by removing punctuations, converting text to lowercase and removing whitespace."
      ]
    },
    {
      "cell_type": "code",
      "metadata": {
        "id": "GG_mutSVxUgM",
        "colab_type": "code",
        "outputId": "f6403b03-95e1-4c17-8130-3334d9d505cd",
        "colab": {
          "base_uri": "https://localhost:8080/",
          "height": 339
        }
      },
      "source": [
        "punctuation = '!\"#$%&()*+-/:;<=>?@[\\\\]^_`{|}~'\n",
        "\n",
        "text_features['title'] = text_features['title'].apply(lambda x: ''.join(ch for ch in x if ch not in set(punctuation)))\n",
        "text_features['title'] = text_features['title'].str.lower()\n",
        "text_features['title'] = text_features['title'].apply(lambda x:' '.join(x.split()))"
      ],
      "execution_count": 0,
      "outputs": [
        {
          "output_type": "stream",
          "text": [
            "/usr/local/lib/python3.6/dist-packages/ipykernel_launcher.py:3: SettingWithCopyWarning: \n",
            "A value is trying to be set on a copy of a slice from a DataFrame.\n",
            "Try using .loc[row_indexer,col_indexer] = value instead\n",
            "\n",
            "See the caveats in the documentation: https://pandas.pydata.org/pandas-docs/stable/user_guide/indexing.html#returning-a-view-versus-a-copy\n",
            "  This is separate from the ipykernel package so we can avoid doing imports until\n",
            "/usr/local/lib/python3.6/dist-packages/ipykernel_launcher.py:4: SettingWithCopyWarning: \n",
            "A value is trying to be set on a copy of a slice from a DataFrame.\n",
            "Try using .loc[row_indexer,col_indexer] = value instead\n",
            "\n",
            "See the caveats in the documentation: https://pandas.pydata.org/pandas-docs/stable/user_guide/indexing.html#returning-a-view-versus-a-copy\n",
            "  after removing the cwd from sys.path.\n",
            "/usr/local/lib/python3.6/dist-packages/ipykernel_launcher.py:5: SettingWithCopyWarning: \n",
            "A value is trying to be set on a copy of a slice from a DataFrame.\n",
            "Try using .loc[row_indexer,col_indexer] = value instead\n",
            "\n",
            "See the caveats in the documentation: https://pandas.pydata.org/pandas-docs/stable/user_guide/indexing.html#returning-a-view-versus-a-copy\n",
            "  \"\"\"\n"
          ],
          "name": "stderr"
        }
      ]
    },
    {
      "cell_type": "markdown",
      "metadata": {
        "id": "hzOeK4bdeURW",
        "colab_type": "text"
      },
      "source": [
        "Making a tokeniztion process for urls as they may present some information regarding the post and standard libs do not provide tools for such purposes.\n",
        "\n",
        "We remove '/', '-' , '.', 'html', 'https' and numbers from the urls as they do not provide any information and occur too many times."
      ]
    },
    {
      "cell_type": "code",
      "metadata": {
        "id": "9IoMQqh35YzH",
        "colab_type": "code",
        "outputId": "3bbaa4fd-b0ad-4fd9-852c-dbfc4cc843bf",
        "colab": {
          "base_uri": "https://localhost:8080/",
          "height": 541
        }
      },
      "source": [
        "def getUrltokens(input):\n",
        "    tokens_1 = str(input.encode('utf-8')).split('/')\n",
        "    alls = []\n",
        "    for i in tokens_1:\n",
        "        tokens = str(i).split('-')\n",
        "        dots = []\n",
        "        for j in range(0,len(tokens)):\n",
        "            temp = str(tokens[j]).split('.')\n",
        "            dots = dots + temp\n",
        "        alls = alls + tokens + dots\n",
        "    all_tok = list(set(alls))\n",
        "    if 'html' in all_tok:\n",
        "        all_tok.remove('html')\n",
        "    if 'https' in all_tok:\n",
        "        all_tok.remove('https')    \n",
        "    return ' '.join(all_tok)\n",
        "text_features['url'] =  text_features['url'].apply(getUrltokens)\n",
        "text_features['domain'] =  text_features['domain'].apply(getUrltokens)\n",
        "text_features['url'] = text_features['url'].str.replace(\"[0-9]\", \" \")\n",
        "text_features['domain'] = text_features['domain'].str.replace(\"[0-9]\", \" \")\n",
        "\n",
        "text_features['url'] = text_features['url'].apply(lambda x: ''.join(ch for ch in x if ch not in set(punctuation)))\n",
        "text_features['domain'] = text_features['domain'].apply(lambda x: ''.join(ch for ch in x if ch not in set(punctuation)))\n"
      ],
      "execution_count": 0,
      "outputs": [
        {
          "output_type": "stream",
          "text": [
            "/usr/local/lib/python3.6/dist-packages/ipykernel_launcher.py:17: SettingWithCopyWarning: \n",
            "A value is trying to be set on a copy of a slice from a DataFrame.\n",
            "Try using .loc[row_indexer,col_indexer] = value instead\n",
            "\n",
            "See the caveats in the documentation: https://pandas.pydata.org/pandas-docs/stable/user_guide/indexing.html#returning-a-view-versus-a-copy\n",
            "/usr/local/lib/python3.6/dist-packages/ipykernel_launcher.py:18: SettingWithCopyWarning: \n",
            "A value is trying to be set on a copy of a slice from a DataFrame.\n",
            "Try using .loc[row_indexer,col_indexer] = value instead\n",
            "\n",
            "See the caveats in the documentation: https://pandas.pydata.org/pandas-docs/stable/user_guide/indexing.html#returning-a-view-versus-a-copy\n",
            "/usr/local/lib/python3.6/dist-packages/ipykernel_launcher.py:19: SettingWithCopyWarning: \n",
            "A value is trying to be set on a copy of a slice from a DataFrame.\n",
            "Try using .loc[row_indexer,col_indexer] = value instead\n",
            "\n",
            "See the caveats in the documentation: https://pandas.pydata.org/pandas-docs/stable/user_guide/indexing.html#returning-a-view-versus-a-copy\n",
            "/usr/local/lib/python3.6/dist-packages/ipykernel_launcher.py:20: SettingWithCopyWarning: \n",
            "A value is trying to be set on a copy of a slice from a DataFrame.\n",
            "Try using .loc[row_indexer,col_indexer] = value instead\n",
            "\n",
            "See the caveats in the documentation: https://pandas.pydata.org/pandas-docs/stable/user_guide/indexing.html#returning-a-view-versus-a-copy\n",
            "/usr/local/lib/python3.6/dist-packages/ipykernel_launcher.py:22: SettingWithCopyWarning: \n",
            "A value is trying to be set on a copy of a slice from a DataFrame.\n",
            "Try using .loc[row_indexer,col_indexer] = value instead\n",
            "\n",
            "See the caveats in the documentation: https://pandas.pydata.org/pandas-docs/stable/user_guide/indexing.html#returning-a-view-versus-a-copy\n",
            "/usr/local/lib/python3.6/dist-packages/ipykernel_launcher.py:23: SettingWithCopyWarning: \n",
            "A value is trying to be set on a copy of a slice from a DataFrame.\n",
            "Try using .loc[row_indexer,col_indexer] = value instead\n",
            "\n",
            "See the caveats in the documentation: https://pandas.pydata.org/pandas-docs/stable/user_guide/indexing.html#returning-a-view-versus-a-copy\n"
          ],
          "name": "stderr"
        }
      ]
    },
    {
      "cell_type": "code",
      "metadata": {
        "id": "fKvNZQb5xUWY",
        "colab_type": "code",
        "outputId": "410bb8d0-8bf8-44fb-b43e-4699c5d79b48",
        "colab": {
          "base_uri": "https://localhost:8080/",
          "height": 586
        }
      },
      "source": [
        "text_features"
      ],
      "execution_count": 0,
      "outputs": [
        {
          "output_type": "execute_result",
          "data": {
            "text/html": [
              "<div>\n",
              "<style scoped>\n",
              "    .dataframe tbody tr th:only-of-type {\n",
              "        vertical-align: middle;\n",
              "    }\n",
              "\n",
              "    .dataframe tbody tr th {\n",
              "        vertical-align: top;\n",
              "    }\n",
              "\n",
              "    .dataframe thead th {\n",
              "        text-align: right;\n",
              "    }\n",
              "</style>\n",
              "<table border=\"1\" class=\"dataframe\">\n",
              "  <thead>\n",
              "    <tr style=\"text-align: right;\">\n",
              "      <th></th>\n",
              "      <th>domain</th>\n",
              "      <th>title</th>\n",
              "      <th>url</th>\n",
              "    </tr>\n",
              "  </thead>\n",
              "  <tbody>\n",
              "    <tr>\n",
              "      <th>1</th>\n",
              "      <td>b'pkmcreation.com' b'pkmcreation com'</td>\n",
              "      <td>north korea ऐसा देश जहां बुनियादी अधिकारों को ...</td>\n",
              "      <td>com pkmcreation www www.pkmcreation.com dicta...</td>\n",
              "    </tr>\n",
              "    <tr>\n",
              "      <th>2</th>\n",
              "      <td>b'self.india' india' b'self</td>\n",
              "      <td>93.5 people think modi govt will handle covid1...</td>\n",
              "      <td>india com www ' www.reddit.com reddit r b'htt...</td>\n",
              "    </tr>\n",
              "    <tr>\n",
              "      <th>3</th>\n",
              "      <td>in' b'indiatoday.in' b'indiatoday</td>\n",
              "      <td>bjp spreading virus of communal hatred, prejud...</td>\n",
              "      <td>www.indiatoday.in in www hatred during story ...</td>\n",
              "    </tr>\n",
              "    <tr>\n",
              "      <th>5</th>\n",
              "      <td>b'ndtv com' b'ndtv.com'</td>\n",
              "      <td>increment on dearness allowance for central go...</td>\n",
              "      <td>www        amp ampakamai rumoff' government p...</td>\n",
              "    </tr>\n",
              "    <tr>\n",
              "      <th>6</th>\n",
              "      <td>indiatimes com' b'timesofindia b'timesofindia....</td>\n",
              "      <td>6 muslim families in jind district convert to ...</td>\n",
              "      <td>indiatimes          in cmsfrommdr'   timesofi...</td>\n",
              "    </tr>\n",
              "    <tr>\n",
              "      <th>...</th>\n",
              "      <td>...</td>\n",
              "      <td>...</td>\n",
              "      <td>...</td>\n",
              "    </tr>\n",
              "    <tr>\n",
              "      <th>1007734</th>\n",
              "      <td>com' b'imgur b'imgur.com'</td>\n",
              "      <td>my friend just completed cycling 6200 kms from...</td>\n",
              "      <td>fv DA' imgur com imgur.com b'http</td>\n",
              "    </tr>\n",
              "    <tr>\n",
              "      <th>1009505</th>\n",
              "      <td>b'i.imgur.com' b'i imgur com'</td>\n",
              "      <td>the two india</td>\n",
              "      <td>imgur com i.imgur.com unguR.jpg' i unguR jpg'...</td>\n",
              "    </tr>\n",
              "    <tr>\n",
              "      <th>1011150</th>\n",
              "      <td>b'dailypioneer.com' com' b'dailypioneer</td>\n",
              "      <td>interesting new series on ruskin bond will soo...</td>\n",
              "      <td>dailypioneer com www with html' past.html' ww...</td>\n",
              "    </tr>\n",
              "    <tr>\n",
              "      <th>1015894</th>\n",
              "      <td>b'i.imgur.com' b'i imgur com'</td>\n",
              "      <td>migration pattern of researchers see india</td>\n",
              "      <td>imgur com i.imgur.com eeSrc i eeSrc.jpg' jpg'...</td>\n",
              "    </tr>\n",
              "    <tr>\n",
              "      <th>1046822</th>\n",
              "      <td>b'news.bbc.co.uk' bbc b'news uk' co</td>\n",
              "      <td>200 sachin the first batsmen in odi history to...</td>\n",
              "      <td>uk news.bbc.co.uk stm' sport         ...</td>\n",
              "    </tr>\n",
              "  </tbody>\n",
              "</table>\n",
              "<p>591484 rows × 3 columns</p>\n",
              "</div>"
            ],
            "text/plain": [
              "                                                    domain  ...                                                url\n",
              "1                    b'pkmcreation.com' b'pkmcreation com'  ...   com pkmcreation www www.pkmcreation.com dicta...\n",
              "2                              b'self.india' india' b'self  ...   india com www ' www.reddit.com reddit r b'htt...\n",
              "3                        in' b'indiatoday.in' b'indiatoday  ...   www.indiatoday.in in www hatred during story ...\n",
              "5                                  b'ndtv com' b'ndtv.com'  ...   www        amp ampakamai rumoff' government p...\n",
              "6        indiatimes com' b'timesofindia b'timesofindia....  ...   indiatimes          in cmsfrommdr'   timesofi...\n",
              "...                                                    ...  ...                                                ...\n",
              "1007734                          com' b'imgur b'imgur.com'  ...                  fv DA' imgur com imgur.com b'http\n",
              "1009505                      b'i.imgur.com' b'i imgur com'  ...   imgur com i.imgur.com unguR.jpg' i unguR jpg'...\n",
              "1011150            b'dailypioneer.com' com' b'dailypioneer  ...   dailypioneer com www with html' past.html' ww...\n",
              "1015894                      b'i.imgur.com' b'i imgur com'  ...   imgur com i.imgur.com eeSrc i eeSrc.jpg' jpg'...\n",
              "1046822                b'news.bbc.co.uk' bbc b'news uk' co  ...           uk news.bbc.co.uk stm' sport         ...\n",
              "\n",
              "[591484 rows x 3 columns]"
            ]
          },
          "metadata": {
            "tags": []
          },
          "execution_count": 12
        }
      ]
    },
    {
      "cell_type": "markdown",
      "metadata": {
        "id": "N-A3FtZnfRjq",
        "colab_type": "text"
      },
      "source": [
        "Converting our feature dataframes into numpy arrays."
      ]
    },
    {
      "cell_type": "code",
      "metadata": {
        "id": "GO-ybs6n4xd0",
        "colab_type": "code",
        "outputId": "862f3399-87e7-4bbe-e43d-834d62232c3c",
        "colab": {
          "base_uri": "https://localhost:8080/",
          "height": 134
        }
      },
      "source": [
        "import numpy as np\n",
        "categorical_features = np.asarray(categorical_features).astype(np.float32)\n",
        "numeric_features = np.asarray(numeric_features).astype(np.float32)\n",
        "title = np.asarray(text_features.title)\n",
        "domain = np.asarray(text_features.domain)\n",
        "url = np.asarray(text_features.url)"
      ],
      "execution_count": 0,
      "outputs": [
        {
          "output_type": "stream",
          "text": [
            "[[  0.   1.   0.   0.   0.]\n",
            " [  0.   1.   0.   0.   1.]\n",
            " [  0.   1.   0.   0.   0.]\n",
            " ...\n",
            " [  0.   1.   0.   0.   0.]\n",
            " [  0. 114.   0.   0.  52.]\n",
            " [  0. 109.   0.   0.  33.]]\n"
          ],
          "name": "stdout"
        }
      ]
    },
    {
      "cell_type": "markdown",
      "metadata": {
        "id": "GTrDY7AnfaSB",
        "colab_type": "text"
      },
      "source": [
        "Importing tensorflow and tensorflow hub which contain the tools for building a model.\n",
        "\n",
        "The hub contains the universal sentence encoder which can encode multilingual text into vectors, as in our case we have Hindi-English text in some cases.\n",
        "\n",
        "We also instantiate three such layers each for our chosen textual features."
      ]
    },
    {
      "cell_type": "code",
      "metadata": {
        "id": "vkNN-N1NSdzF",
        "colab_type": "code",
        "colab": {}
      },
      "source": [
        "import tensorflow as tf\n",
        "import tensorflow_text\n",
        "from tensorflow import keras\n",
        "tf.keras.backend.clear_session() \n",
        "from tensorflow.keras.layers import Dense, Input, Dropout, LSTM,concatenate\n",
        "import tensorflow_hub as hub\n",
        "\n",
        "#embedding = \"https://tfhub.dev/google/tf2-preview/gnews-swivel-20dim/1\"\n",
        "#embedding = \"https://tfhub.dev/google/tf2-preview/gnews-swivel-20dim-with-oov/1\"\n",
        "#embedding = \"https://tfhub.dev/google/tf2-preview/nnlm-en-dim50/1\"\n",
        "#embedding = \"https://tfhub.dev/google/tf2-preview/nnlm-en-dim128/1\"\n",
        "elmo = \"https://tfhub.dev/google/universal-sentence-encoder-multilingual-qa/3\"\n",
        "\n",
        "hub_layer1 = hub.KerasLayer(elmo, input_shape=[], \n",
        "                           dtype=tf.string, trainable=False)\n",
        "hub_layer2 = hub.KerasLayer(elmo, input_shape=[], \n",
        "                           dtype=tf.string, trainable=False)\n",
        "hub_layer3 = hub.KerasLayer(elmo, input_shape=[], \n",
        "                           dtype=tf.string, trainable=False)"
      ],
      "execution_count": 0,
      "outputs": []
    },
    {
      "cell_type": "markdown",
      "metadata": {
        "id": "puw1GlJYggZx",
        "colab_type": "text"
      },
      "source": [
        "We define the input layers for our model."
      ]
    },
    {
      "cell_type": "code",
      "metadata": {
        "id": "Zt5biYqCSd4s",
        "colab_type": "code",
        "colab": {}
      },
      "source": [
        "input_num = Input(shape=(5,))\n",
        "input_cat = Input(shape=(33,))\n",
        "input_title = Input(shape=(), dtype=tf.string)\n",
        "input_domain = Input(shape=(), dtype=tf.string)\n",
        "input_url = Input(shape=(), dtype=tf.string)"
      ],
      "execution_count": 0,
      "outputs": []
    },
    {
      "cell_type": "markdown",
      "metadata": {
        "id": "CbHSChO2gona",
        "colab_type": "text"
      },
      "source": [
        "Define model structure for title.\n",
        "\n",
        "hub_layer-->dense-->dense"
      ]
    },
    {
      "cell_type": "code",
      "metadata": {
        "id": "gI-R5TJTSeAv",
        "colab_type": "code",
        "colab": {}
      },
      "source": [
        "title_feat = hub_layer1(input_title)\n",
        "title_feat = Dense(128,activation='relu')(title_feat)\n",
        "title_feat = Dense(32,activation='relu')(title_feat)"
      ],
      "execution_count": 0,
      "outputs": []
    },
    {
      "cell_type": "markdown",
      "metadata": {
        "id": "HqebB6y8g5HB",
        "colab_type": "text"
      },
      "source": [
        "Define model structure for domain.\n",
        "\n",
        "hub_layer-->dense-->dense"
      ]
    },
    {
      "cell_type": "code",
      "metadata": {
        "id": "_1A6UI2utH22",
        "colab_type": "code",
        "colab": {}
      },
      "source": [
        "domain_feat = hub_layer2(input_domain)\n",
        "domain_feat = Dense(128,activation='relu')(domain_feat)\n",
        "domain_feat = Dense(32,activation='relu')(domain_feat)"
      ],
      "execution_count": 0,
      "outputs": []
    },
    {
      "cell_type": "markdown",
      "metadata": {
        "id": "UDeVEvMMg71d",
        "colab_type": "text"
      },
      "source": [
        "Define model structure for url.\n",
        "\n",
        "hub_layer-->dense-->dense"
      ]
    },
    {
      "cell_type": "code",
      "metadata": {
        "id": "DsXiR0jvtHt4",
        "colab_type": "code",
        "colab": {}
      },
      "source": [
        "url_feat = hub_layer3(input_url)\n",
        "url_feat = Dense(128,activation='relu')(url_feat)\n",
        "url_feat = Dense(32,activation='relu')(url_feat)"
      ],
      "execution_count": 0,
      "outputs": []
    },
    {
      "cell_type": "markdown",
      "metadata": {
        "id": "nfZYyJiWg_rp",
        "colab_type": "text"
      },
      "source": [
        "Define model structure for numerical features.\n",
        "\n",
        "dense-->dense-->dense"
      ]
    },
    {
      "cell_type": "code",
      "metadata": {
        "id": "317TnazdtQBD",
        "colab_type": "code",
        "colab": {}
      },
      "source": [
        "num_feat = Dense(16,activation='relu')(input_num)\n",
        "num_feat = Dense(32,activation='relu')(num_feat)\n",
        "num_feat = Dense(22,activation='relu')(num_feat)"
      ],
      "execution_count": 0,
      "outputs": []
    },
    {
      "cell_type": "markdown",
      "metadata": {
        "id": "nSqxEGZChEcK",
        "colab_type": "text"
      },
      "source": [
        "Define model structure for categorical features.\n",
        "\n",
        "dense-->dense-->dense"
      ]
    },
    {
      "cell_type": "code",
      "metadata": {
        "id": "7PAF2bsbtP2H",
        "colab_type": "code",
        "colab": {}
      },
      "source": [
        "cat_feat = Dense(64,activation='relu')(input_cat)\n",
        "cat_feat = Dense(128,activation='relu')(cat_feat)\n",
        "cat_feat = Dense(68,activation='relu')(cat_feat)"
      ],
      "execution_count": 0,
      "outputs": []
    },
    {
      "cell_type": "markdown",
      "metadata": {
        "id": "57QIO1K9hIZO",
        "colab_type": "text"
      },
      "source": [
        "We concatenate the the features from all the above model structures to produce a unified output."
      ]
    },
    {
      "cell_type": "code",
      "metadata": {
        "id": "XhVTZMKIWLuo",
        "colab_type": "code",
        "colab": {}
      },
      "source": [
        "x = concatenate([title_feat, domain_feat, url_feat, num_feat,cat_feat])\n"
      ],
      "execution_count": 0,
      "outputs": []
    },
    {
      "cell_type": "markdown",
      "metadata": {
        "id": "qF68u1M2hVbp",
        "colab_type": "text"
      },
      "source": [
        "We define the output for our model and set activation as softmax as probabilites of all the categories will sum to 1 and will provide insight into model's behviour."
      ]
    },
    {
      "cell_type": "code",
      "metadata": {
        "id": "fPj9xMrsWmWz",
        "colab_type": "code",
        "outputId": "f856d1b7-abf1-428b-e601-259adefd0fb9",
        "colab": {
          "base_uri": "https://localhost:8080/",
          "height": 978
        }
      },
      "source": [
        "output = Dense(label.shape[1],activation='softmax')(x)\n",
        "model = keras.Model(inputs=[input_cat, input_num,input_title,input_domain,input_url], outputs=output)\n",
        "model.summary()\n",
        "\n"
      ],
      "execution_count": 0,
      "outputs": [
        {
          "output_type": "stream",
          "text": [
            "Model: \"model\"\n",
            "__________________________________________________________________________________________________\n",
            "Layer (type)                    Output Shape         Param #     Connected to                     \n",
            "==================================================================================================\n",
            "input_3 (InputLayer)            [(None,)]            0                                            \n",
            "__________________________________________________________________________________________________\n",
            "input_4 (InputLayer)            [(None,)]            0                                            \n",
            "__________________________________________________________________________________________________\n",
            "input_5 (InputLayer)            [(None,)]            0                                            \n",
            "__________________________________________________________________________________________________\n",
            "input_1 (InputLayer)            [(None, 5)]          0                                            \n",
            "__________________________________________________________________________________________________\n",
            "input_2 (InputLayer)            [(None, 33)]         0                                            \n",
            "__________________________________________________________________________________________________\n",
            "keras_layer (KerasLayer)        (None, 512)          86556673    input_3[0][0]                    \n",
            "__________________________________________________________________________________________________\n",
            "keras_layer_1 (KerasLayer)      (None, 512)          86556673    input_4[0][0]                    \n",
            "__________________________________________________________________________________________________\n",
            "keras_layer_2 (KerasLayer)      (None, 512)          86556673    input_5[0][0]                    \n",
            "__________________________________________________________________________________________________\n",
            "dense_6 (Dense)                 (None, 16)           96          input_1[0][0]                    \n",
            "__________________________________________________________________________________________________\n",
            "dense_9 (Dense)                 (None, 64)           2176        input_2[0][0]                    \n",
            "__________________________________________________________________________________________________\n",
            "dense (Dense)                   (None, 128)          65664       keras_layer[0][0]                \n",
            "__________________________________________________________________________________________________\n",
            "dense_2 (Dense)                 (None, 128)          65664       keras_layer_1[0][0]              \n",
            "__________________________________________________________________________________________________\n",
            "dense_4 (Dense)                 (None, 128)          65664       keras_layer_2[0][0]              \n",
            "__________________________________________________________________________________________________\n",
            "dense_7 (Dense)                 (None, 32)           544         dense_6[0][0]                    \n",
            "__________________________________________________________________________________________________\n",
            "dense_10 (Dense)                (None, 128)          8320        dense_9[0][0]                    \n",
            "__________________________________________________________________________________________________\n",
            "dense_1 (Dense)                 (None, 32)           4128        dense[0][0]                      \n",
            "__________________________________________________________________________________________________\n",
            "dense_3 (Dense)                 (None, 32)           4128        dense_2[0][0]                    \n",
            "__________________________________________________________________________________________________\n",
            "dense_5 (Dense)                 (None, 32)           4128        dense_4[0][0]                    \n",
            "__________________________________________________________________________________________________\n",
            "dense_8 (Dense)                 (None, 22)           726         dense_7[0][0]                    \n",
            "__________________________________________________________________________________________________\n",
            "dense_11 (Dense)                (None, 68)           8772        dense_10[0][0]                   \n",
            "__________________________________________________________________________________________________\n",
            "concatenate (Concatenate)       (None, 186)          0           dense_1[0][0]                    \n",
            "                                                                 dense_3[0][0]                    \n",
            "                                                                 dense_5[0][0]                    \n",
            "                                                                 dense_8[0][0]                    \n",
            "                                                                 dense_11[0][0]                   \n",
            "__________________________________________________________________________________________________\n",
            "dense_12 (Dense)                (None, 11)           2057        concatenate[0][0]                \n",
            "==================================================================================================\n",
            "Total params: 259,902,086\n",
            "Trainable params: 232,067\n",
            "Non-trainable params: 259,670,019\n",
            "__________________________________________________________________________________________________\n"
          ],
          "name": "stdout"
        }
      ]
    },
    {
      "cell_type": "markdown",
      "metadata": {
        "id": "HF-gqj73iCZP",
        "colab_type": "text"
      },
      "source": [
        "We compile our model with Adam optimizer and lr=0.001 after various trials between optimizers and learning rates.\n",
        "\n",
        "We chose categorical crossentropy as the loss function and accuracy as our metric as dirrected by our use case and standard practices.\n",
        "\n",
        "We also split our training data and validation data in 80% and 20% ratio.\n",
        "\n",
        "We kept a callback for checkpointing best performing models after each epoch."
      ]
    },
    {
      "cell_type": "code",
      "metadata": {
        "id": "NYxlXbqv-WwP",
        "colab_type": "code",
        "outputId": "f5fc3477-653e-45c0-fe99-e0e18d9979e1",
        "colab": {
          "base_uri": "https://localhost:8080/",
          "height": 188
        }
      },
      "source": [
        "model.compile(optimizer=keras.optimizers.Adam(1e-3),\n",
        "              loss=keras.losses.CategoricalCrossentropy(from_logits=True),metrics=['accuracy'])\n",
        "\n",
        "history = model.fit([categorical_features,\n",
        "                     numeric_features,\n",
        "                     title,\n",
        "                     domain,\n",
        "                     url],label,validation_split=0.2, batch_size=16, epochs=10, callbacks=[tf.keras.callbacks.ModelCheckpoint(\n",
        "    '{epoch}', monitor='val_loss', verbose=1, save_best_only=True,\n",
        "    save_weights_only=False, mode='auto', save_freq='epoch')])"
      ],
      "execution_count": 0,
      "outputs": [
        {
          "output_type": "stream",
          "text": [
            "Train on 473187 samples, validate on 118297 samples\n",
            "Epoch 1/10\n",
            "473184/473187 [============================>.] - ETA: 0s - loss: 1.9321 - accuracy: 0.6095\n",
            "Epoch 00001: val_loss improved from inf to 1.77269, saving model to 1\n",
            "INFO:tensorflow:Assets written to: 1/assets\n"
          ],
          "name": "stdout"
        },
        {
          "output_type": "stream",
          "text": [
            "INFO:tensorflow:Assets written to: 1/assets\n"
          ],
          "name": "stderr"
        },
        {
          "output_type": "stream",
          "text": [
            "473187/473187 [==============================] - 2627s 6ms/sample - loss: 1.9321 - accuracy: 0.6095 - val_loss: 1.7727 - val_accuracy: 0.7699\n",
            "Epoch 2/10\n",
            "433280/473187 [==========================>...] - ETA: 2:49 - loss: 1.9191 - accuracy: 0.6227Buffered data was truncated after reaching the output size limit."
          ],
          "name": "stdout"
        }
      ]
    },
    {
      "cell_type": "markdown",
      "metadata": {
        "id": "w9_PA5IujMm0",
        "colab_type": "text"
      },
      "source": [
        "Plotting our training and validation accuracies along with the training and validation losses.\n",
        "\n",
        "This gives us a pretty clear picture if our model is underfitting or overfitting and track the problems."
      ]
    },
    {
      "cell_type": "code",
      "metadata": {
        "id": "lK16UB0iBjok",
        "colab_type": "code",
        "colab": {}
      },
      "source": [
        "print(history.history.keys())\n",
        "import matplotlib.pyplot as plt\n",
        "acc = history.history['accuracy']\n",
        "val_acc = history.history['val_accuracy']\n",
        "\n",
        "loss = history.history['loss']\n",
        "val_loss = history.history['val_loss']\n",
        "\n",
        "plt.figure(figsize=(8, 8))\n",
        "plt.subplot(2, 1, 1)\n",
        "plt.plot(acc, label='Training Accuracy')\n",
        "plt.plot(val_acc, label='Validation Accuracy')\n",
        "plt.legend(loc='lower right')\n",
        "plt.ylabel('Accuracy')\n",
        "plt.ylim([min(plt.ylim()),1])\n",
        "plt.title('Training and Validation Accuracy')\n",
        "\n",
        "plt.subplot(2, 1, 2)\n",
        "plt.plot(loss, label='Training Loss')\n",
        "plt.plot(val_loss, label='Validation Loss')\n",
        "plt.legend(loc='upper right')\n",
        "plt.ylabel('mse')\n",
        "plt.ylim([0,2.0])\n",
        "plt.title('Training and Validation Loss')\n",
        "plt.xlabel('epoch')\n",
        "plt.show()"
      ],
      "execution_count": 0,
      "outputs": []
    },
    {
      "cell_type": "markdown",
      "metadata": {
        "id": "4iP2wKOFjrOs",
        "colab_type": "text"
      },
      "source": [
        "Saving the final model for serving."
      ]
    },
    {
      "cell_type": "code",
      "metadata": {
        "id": "gx7mjWltUbcl",
        "colab_type": "code",
        "colab": {}
      },
      "source": [
        "tf.keras.models.save_model(model,filepath='megav1_1.h5',save_format='h5')"
      ],
      "execution_count": 0,
      "outputs": []
    },
    {
      "cell_type": "code",
      "metadata": {
        "id": "-qpnzgtDdHkG",
        "colab_type": "code",
        "colab": {}
      },
      "source": [
        ""
      ],
      "execution_count": 0,
      "outputs": []
    }
  ]
}